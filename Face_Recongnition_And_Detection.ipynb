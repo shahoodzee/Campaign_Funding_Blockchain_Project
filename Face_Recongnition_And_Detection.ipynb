{
  "nbformat": 4,
  "nbformat_minor": 0,
  "metadata": {
    "colab": {
      "provenance": [],
      "authorship_tag": "ABX9TyNmL63sWuj0G1yeIK82vqkC",
      "include_colab_link": true
    },
    "kernelspec": {
      "name": "python3",
      "display_name": "Python 3"
    },
    "language_info": {
      "name": "python"
    }
  },
  "cells": [
    {
      "cell_type": "markdown",
      "metadata": {
        "id": "view-in-github",
        "colab_type": "text"
      },
      "source": [
        "<a href=\"https://colab.research.google.com/github/shahoodzee/Campaign_Funding_Blockchain_Project/blob/main/Face_Recongnition_And_Detection.ipynb\" target=\"_parent\"><img src=\"https://colab.research.google.com/assets/colab-badge.svg\" alt=\"Open In Colab\"/></a>"
      ]
    },
    {
      "cell_type": "markdown",
      "source": [
        "# FACE DETECTION AND RECOGNITION\n",
        "\n",
        "## Problem Statement\n",
        "Develop an AI application that can detect and recognize faces in\n",
        "images or videos. Use pre-trained face detection models like Haar\n",
        "cascades or deep learning-based face detectors, and optionally\n",
        "add face recognition capabilities using techniques like Siamese networks or ArcFace."
      ],
      "metadata": {
        "id": "-A2Pk-uYaQVc"
      }
    },
    {
      "cell_type": "code",
      "source": [],
      "metadata": {
        "id": "5JuFHoIEafAp"
      },
      "execution_count": null,
      "outputs": []
    }
  ]
}